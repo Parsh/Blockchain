{
 "cells": [
  {
   "cell_type": "markdown",
   "metadata": {},
   "source": [
    "# What is Ethereum?\n",
    "\n",
    "## Introduction\n",
    "\n",
    "**Ethereum is \"the World Computer\"**. That’s one of the more common descriptions of the Ethereum platform. But what does that mean? Let’s try to start with a computer science focused description, and then try to decipher that with a more practical analysis of Ethereum’s capabilities and characteristics, while comparing it to Bitcoin and other **decentralized information exchange platforms (or \"blockchains\" for short)**.\n",
    "\n",
    "From a computer science perspective, **Ethereum is a deterministic but practically unbounded state-machine with two basic functions**: \n",
    "- the first being **a globally accessible singleton state**, and\n",
    "- the second being **a virtual machine that applies changes to that state.**\n",
    "\n",
    "From a more practical perspective, **Ethereum is an open-source, globally decentralized computing infrastructure that executes programs called \"smart contracts\". It uses a blockchain to synchronize and store the system \"state\" changes, along with a cryptocurrency called \"ether\" to meter and constrain execution resource costs.**\n",
    "\n",
    "> The Ethereum platform **enables developers to build powerful decentralized applications with built-in economic functions**. While providing continuous uptime, it also reduces or eliminates censorship, third party interface, and counterparty risk.\n",
    "\n",
    "Many people will come to Ethereum with some prior experience of cryptocurrencies, specifically Bitcoin. <br>**Ethereum shares many common elements with other open blockchains**:\n",
    "- a peer-to-peer network connecting participants, \n",
    "- a byzantine-fault-tolerant consensus algorithm for synchronization of state updates (a proof-of-work blockchain), and \n",
    "- a digital currency (ether).\n",
    "\n",
    "## Components of a blockchain\n",
    "\n",
    "The components of an open, public, blockchain are (usually):\n",
    "\n",
    "- A **peer-to-peer network** connecting participants and propagating transactions and blocks of verified transactions, based on a standardized \"gossip\" protocol.<br><br>\n",
    "\n",
    "- **Messages, in the form of transactions**, representing state transitions.<br><br>\n",
    "\n",
    "- A set of **consensus rules**, governing what constitutes a transaction and what makes for valid state transition.<br><br>\n",
    "\n",
    "- A **state machine** that processes transactions according to the consensus rules.<br><br>\n",
    "\n",
    "- A **chain of cryptographically secured blocks**, that acts as a journal of all the verified and accepted state transitions.<br><br>\n",
    "\n",
    "- A **consensus algorithm** that decentralizes control over the blockchain, by forcing participants to cooperate in the enforcement of the consensus rules.<br><br>\n",
    "\n",
    "- A **game-theoretically sound incentivization scheme** (e.g. proof-of-work costs plus block rewards) to economically secure the state machine in an open environment.<br><br>\n",
    "\n",
    "- One or more **open-source software implementations of the above (\"clients\")**.\n",
    "\n",
    "All or most of these components are usually combined in a single software client. For example, in Bitcoin, the reference implementation is developed by the Bitcoin Core open source project, and implemented as the **bitcoind client**.<br>\n",
    "**In Ethereum, rather than a reference implementation, there is a \"reference specification\", a mathematical description of the system in the [Ethereum Yellow Paper](https://ethereum.github.io/yellowpaper/paper.pdf)**. There are a number of clients, which are built according to the reference specification.\n",
    "\n",
    "In the past, <u>we used the term \"blockchain\" to represent all of the components above, as a short-hand reference to the combination of technologies that encompass all of the characteristics described </u>. Today, however, **the term blockchain has become diluted by marketers and profiteers**, looking to hype their projects and attain unrealistic valuations for their startups. It is effectively meaningless on its own. \n",
    "\n",
    ">**We need qualifiers to help us understand the characteristics of the blockchain in question, such as open, public, global, decentralized, neutral, and censorship-resistant,** to identify the important emergent characteristics of a \"blockchain\" system that these components allow.\n",
    "\n",
    "<u>Not all blockchains are created equal</u>. **When you are told that something is a blockchain, you have not received an answer; rather, you need to start asking a lot of questions to clarify what they mean when they use the word \"blockchain\"**. Start by asking for a description of the components above, then ask about whether this \"blockchain\" exhibits the characteristics of being open, public, etc..?"
   ]
  },
  {
   "cell_type": "code",
   "execution_count": null,
   "metadata": {},
   "outputs": [],
   "source": []
  }
 ],
 "metadata": {
  "kernelspec": {
   "display_name": "Python 3",
   "language": "python",
   "name": "python3"
  },
  "language_info": {
   "codemirror_mode": {
    "name": "ipython",
    "version": 3
   },
   "file_extension": ".py",
   "mimetype": "text/x-python",
   "name": "python",
   "nbconvert_exporter": "python",
   "pygments_lexer": "ipython3",
   "version": "3.6.1"
  },
  "toc": {
   "base_numbering": 1,
   "nav_menu": {},
   "number_sections": false,
   "sideBar": true,
   "skip_h1_title": false,
   "title_cell": "Table of Contents",
   "title_sidebar": "Contents",
   "toc_cell": false,
   "toc_position": {},
   "toc_section_display": true,
   "toc_window_display": false
  }
 },
 "nbformat": 4,
 "nbformat_minor": 2
}
