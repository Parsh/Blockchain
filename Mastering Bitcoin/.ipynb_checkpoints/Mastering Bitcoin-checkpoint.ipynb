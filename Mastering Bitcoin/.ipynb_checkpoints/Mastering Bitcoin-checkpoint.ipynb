{
 "cells": [
  {
   "cell_type": "markdown",
   "metadata": {},
   "source": [
    "# Introduction\n",
    "\n",
    "## What is Bitcoin?\n",
    "\n",
    ">**Bitcoin, apart from being the name of a cryptocurrency, is a collection of concepts and technologies that form the basis of a digital money ecosystem**. Units of currency called bitcoin are used to store and transmit value among participants in the bitcoin network. Bitcoin users communicate with each other using the bitcoin protocol primarily via the internet, although other transport networks can also be used. The bitcoin protocol stack, available as open source software, can be run on a wide range of computing devices, including laptops and smartphones, making the technology easily accessible.\n",
    "\n",
    "Unlike traditional currencies, bitcoin are entirely virtual. There are no physical coins or even digital coins per se. The coins are implied in transactions that transfer value from sender to recipient. **Users of bitcoin own keys that allow them to prove ownership of bitcoin in the bitcoin network. With these keys they can sign transactions to unlock the value and spend it by transferring it to a new owner**. Keys are often stored in a digital wallet on each user’s computer or smartphone.<br> **Possession of the key that can sign a transaction is the only prerequisite to spending bitcoin**, putting the control entirely in the hands of each user.\n",
    "\n",
    "What can it be used for?<br>\n",
    "Users can transfer bitcoin over the network to do just about anything that can be done with conventional currencies, including buy and sell goods, send money to people or organizations, or extend credit. Bitcoin can be purchased, sold, and exchanged for other currencies at specialized currency exchanges. Bitcoin in a sense is the perfect form of money for the internet because it is fast, secure, and borderless.\n",
    "\n",
    "#### How Bitcoins are created? [Overview]\n",
    "\n",
    "Bitcoin is a distributed, peer-to-peer system. As such there is no \"central\" server or point of control.<br> **Bitcoin are created through a process called mining, which involves competing to find solutions to a mathematical problem while processing bitcoin transactions. Any participant in the bitcoin network (i.e., anyone using a device running the full bitcoin protocol stack) may operate as a miner, using their computer’s processing power to verify and record transactions**.<br> Every 10 minutes, on average, a bitcoin miner is able to validate the transactions of the past 10 minutes and is rewarded with brand new bitcoin. Essentially, bitcoin mining decentralizes the currency-issuance and clearing functions of a central bank and replaces the need for any central bank.\n",
    "\n",
    "The bitcoin protocol includes built-in algorithms that regulate the mining function across the network. The difficulty of the processing task that miners must perform is adjusted dynamically so that, on average, someone succeeds every 10 minutes regardless of how many miners (and how much processing) are competing at any moment. **The protocol also halves the rate at which new bitcoin are created every 4 years, and limits the total number of bitcoin that will be created to a fixed total just below 21 million coins.** The result is that the number of bitcoin in circulation closely follows an easily predictable curve that approaches 21 million by the year 2140. Due to bitcoin’s diminishing rate of issuance, over the long term, the bitcoin currency is deflationary. Furthermore, bitcoin cannot be inflated by \"printing\" new money above and beyond the expected issuance rate.\n",
    "\n",
    "#### Components of Bitcoin\n",
    "\n",
    "Behind the scenes, bitcoin is also the name of the protocol, a peer-to-peer network, and a distributed computing innovation. The bitcoin currency is really only the first application of this invention. Bitcoin represents the culmination of decades of research in cryptography and distributed systems and includes four key innovations brought together in a unique and powerful combination. Bitcoin consists of:\n",
    "\n",
    "- **Bitcoin Protocol**: A decentralized peer-to-peer network <br><br>\n",
    "\n",
    "- **Blockchain**: A public transaction ledger <br><br>\n",
    "\n",
    "- **Consensus Rules**: A set of rules for independent transaction validation and currency issuance <br><br>\n",
    "\n",
    "- **Proof-of-Work Algorithm**: A mechanism for reaching global decentralized consensus on the valid blockchain\n",
    "\n",
    "Bitcoin is akin to the internet of money, a network for propagating value and securing the ownership of digital assets via distributed computation.\n",
    "\n",
    "#### Digital Currencies Before Bitcoin\n",
    "\n",
    "The emergence of viable digital money is closely linked to developments in cryptography. This is not surprising when one considers the fundamental challenges involved with using bits to represent value that can be exchanged for goods and services. Three basic questions for anyone accepting digital money are:\n",
    "\n",
    "- Can I trust that the money is authentic and not counterfeit?\n",
    "\n",
    "- Can I trust that the digital money can only be spent once (known as the “double-spend” problem)?\n",
    "\n",
    "- Can I be sure that no one else can claim this money belongs to them and not me?\n",
    "\n",
    "How Paper Money addresses these issues:<br>\n",
    "Issuers of paper money are constantly battling the counterfeiting problem by using increasingly sophisticated papers and printing technology. Physical money addresses the double-spend issue easily because the same paper note cannot be in two places at once. Of course, conventional money is also often stored and transmitted digitally. In these cases, the counterfeiting and double-spend issues are handled by clearing all electronic transactions through central authorities that have a global view of the currency in circulation. \n",
    "\n",
    "How Digital Money address them:<br>\n",
    "For digital money, which cannot take advantage of esoteric inks or holographic strips, **cryptography provides the basis for trusting the legitimacy of a user’s claim to value. Specifically, cryptographic digital signatures enable a user to sign a digital asset or transaction proving the ownership of that asset**. With the appropriate architecture, digital signatures also can be used to address the double-spend issue."
   ]
  },
  {
   "cell_type": "code",
   "execution_count": null,
   "metadata": {},
   "outputs": [],
   "source": []
  }
 ],
 "metadata": {
  "kernelspec": {
   "display_name": "Python 3",
   "language": "python",
   "name": "python3"
  },
  "language_info": {
   "codemirror_mode": {
    "name": "ipython",
    "version": 3
   },
   "file_extension": ".py",
   "mimetype": "text/x-python",
   "name": "python",
   "nbconvert_exporter": "python",
   "pygments_lexer": "ipython3",
   "version": "3.6.1"
  },
  "toc": {
   "base_numbering": 1,
   "nav_menu": {},
   "number_sections": false,
   "sideBar": true,
   "skip_h1_title": false,
   "title_cell": "Table of Contents",
   "title_sidebar": "Contents",
   "toc_cell": false,
   "toc_position": {},
   "toc_section_display": true,
   "toc_window_display": false
  }
 },
 "nbformat": 4,
 "nbformat_minor": 2
}
